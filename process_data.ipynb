{
 "cells": [
  {
   "cell_type": "code",
   "execution_count": 1,
   "metadata": {},
   "outputs": [],
   "source": [
    "import pandas as pd\n",
    "import numpy as np"
   ]
  },
  {
   "cell_type": "code",
   "execution_count": 2,
   "metadata": {},
   "outputs": [],
   "source": [
    "train_tmp_click_log = 'data/train_tmp/click_log.csv'\n",
    "train_click_log_path = 'data/train_preliminary/click_log.csv'\n",
    "train_click_log = pd.read_csv(train_click_log_path)"
   ]
  },
  {
   "cell_type": "code",
   "execution_count": 3,
   "metadata": {},
   "outputs": [
    {
     "output_type": "execute_result",
     "data": {
      "text/plain": "   time  user_id  creative_id  click_times\n0     9    30920       567330            1\n1    65    30920      3072255            1\n2    56    30920      2361327            1",
      "text/html": "<div>\n<style scoped>\n    .dataframe tbody tr th:only-of-type {\n        vertical-align: middle;\n    }\n\n    .dataframe tbody tr th {\n        vertical-align: top;\n    }\n\n    .dataframe thead th {\n        text-align: right;\n    }\n</style>\n<table border=\"1\" class=\"dataframe\">\n  <thead>\n    <tr style=\"text-align: right;\">\n      <th></th>\n      <th>time</th>\n      <th>user_id</th>\n      <th>creative_id</th>\n      <th>click_times</th>\n    </tr>\n  </thead>\n  <tbody>\n    <tr>\n      <th>0</th>\n      <td>9</td>\n      <td>30920</td>\n      <td>567330</td>\n      <td>1</td>\n    </tr>\n    <tr>\n      <th>1</th>\n      <td>65</td>\n      <td>30920</td>\n      <td>3072255</td>\n      <td>1</td>\n    </tr>\n    <tr>\n      <th>2</th>\n      <td>56</td>\n      <td>30920</td>\n      <td>2361327</td>\n      <td>1</td>\n    </tr>\n  </tbody>\n</table>\n</div>"
     },
     "metadata": {},
     "execution_count": 3
    }
   ],
   "source": [
    "train_click_log.head(3)"
   ]
  },
  {
   "cell_type": "code",
   "execution_count": 4,
   "metadata": {},
   "outputs": [
    {
     "output_type": "execute_result",
     "data": {
      "text/plain": "time           int64\nuser_id        int64\ncreative_id    int64\nclick_times    int64\ndtype: object"
     },
     "metadata": {},
     "execution_count": 4
    }
   ],
   "source": [
    "train_click_log.dtypes"
   ]
  },
  {
   "cell_type": "code",
   "execution_count": 5,
   "metadata": {},
   "outputs": [
    {
     "output_type": "execute_result",
     "data": {
      "text/plain": "((91,), (900000,), (2481135,), (41,))"
     },
     "metadata": {},
     "execution_count": 5
    }
   ],
   "source": [
    "train_click_log.time.unique().shape, train_click_log.user_id.unique().shape, train_click_log.creative_id.unique().shape, train_click_log.click_times.unique().shape"
   ]
  },
  {
   "cell_type": "code",
   "execution_count": 6,
   "metadata": {},
   "outputs": [],
   "source": [
    "train_ad = pd.read_csv('data/train_preliminary/ad.csv')"
   ]
  },
  {
   "cell_type": "code",
   "execution_count": 7,
   "metadata": {},
   "outputs": [
    {
     "output_type": "execute_result",
     "data": {
      "text/plain": "   creative_id  ad_id product_id  product_category  advertiser_id industry\n0            1      1         \\N                 5            381       78\n1            4      4         \\N                 5            108      202\n2            7      7         \\N                 5            148      297\n3            8      8         \\N                 5            713      213\n4            9      9         \\N                 5            695      213",
      "text/html": "<div>\n<style scoped>\n    .dataframe tbody tr th:only-of-type {\n        vertical-align: middle;\n    }\n\n    .dataframe tbody tr th {\n        vertical-align: top;\n    }\n\n    .dataframe thead th {\n        text-align: right;\n    }\n</style>\n<table border=\"1\" class=\"dataframe\">\n  <thead>\n    <tr style=\"text-align: right;\">\n      <th></th>\n      <th>creative_id</th>\n      <th>ad_id</th>\n      <th>product_id</th>\n      <th>product_category</th>\n      <th>advertiser_id</th>\n      <th>industry</th>\n    </tr>\n  </thead>\n  <tbody>\n    <tr>\n      <th>0</th>\n      <td>1</td>\n      <td>1</td>\n      <td>\\N</td>\n      <td>5</td>\n      <td>381</td>\n      <td>78</td>\n    </tr>\n    <tr>\n      <th>1</th>\n      <td>4</td>\n      <td>4</td>\n      <td>\\N</td>\n      <td>5</td>\n      <td>108</td>\n      <td>202</td>\n    </tr>\n    <tr>\n      <th>2</th>\n      <td>7</td>\n      <td>7</td>\n      <td>\\N</td>\n      <td>5</td>\n      <td>148</td>\n      <td>297</td>\n    </tr>\n    <tr>\n      <th>3</th>\n      <td>8</td>\n      <td>8</td>\n      <td>\\N</td>\n      <td>5</td>\n      <td>713</td>\n      <td>213</td>\n    </tr>\n    <tr>\n      <th>4</th>\n      <td>9</td>\n      <td>9</td>\n      <td>\\N</td>\n      <td>5</td>\n      <td>695</td>\n      <td>213</td>\n    </tr>\n  </tbody>\n</table>\n</div>"
     },
     "metadata": {},
     "execution_count": 7
    }
   ],
   "source": [
    "train_ad.head(5)"
   ]
  },
  {
   "cell_type": "code",
   "execution_count": 8,
   "metadata": {},
   "outputs": [
    {
     "output_type": "execute_result",
     "data": {
      "text/plain": "creative_id          int64\nad_id                int64\nproduct_id          object\nproduct_category     int64\nadvertiser_id        int64\nindustry            object\ndtype: object"
     },
     "metadata": {},
     "execution_count": 8
    }
   ],
   "source": [
    "train_ad.dtypes"
   ]
  },
  {
   "cell_type": "code",
   "execution_count": 9,
   "metadata": {},
   "outputs": [],
   "source": [
    "train_ad.product_id[train_ad.product_id=='\\\\N']='0'\n",
    "train_ad.industry[train_ad.industry=='\\\\N']='0'"
   ]
  },
  {
   "cell_type": "code",
   "execution_count": 10,
   "metadata": {},
   "outputs": [],
   "source": [
    "train_ad.product_id = train_ad.product_id.astype(int)\n",
    "train_ad.industry = train_ad.industry.astype(int)"
   ]
  },
  {
   "cell_type": "code",
   "execution_count": 11,
   "metadata": {},
   "outputs": [
    {
     "output_type": "execute_result",
     "data": {
      "text/plain": "creative_id         int64\nad_id               int64\nproduct_id          int64\nproduct_category    int64\nadvertiser_id       int64\nindustry            int64\ndtype: object"
     },
     "metadata": {},
     "execution_count": 11
    }
   ],
   "source": [
    "train_ad.dtypes"
   ]
  },
  {
   "cell_type": "code",
   "execution_count": 20,
   "metadata": {},
   "outputs": [
    {
     "output_type": "execute_result",
     "data": {
      "text/plain": "   user_id  age  gender\n0        1    4       1\n1        2   10       1",
      "text/html": "<div>\n<style scoped>\n    .dataframe tbody tr th:only-of-type {\n        vertical-align: middle;\n    }\n\n    .dataframe tbody tr th {\n        vertical-align: top;\n    }\n\n    .dataframe thead th {\n        text-align: right;\n    }\n</style>\n<table border=\"1\" class=\"dataframe\">\n  <thead>\n    <tr style=\"text-align: right;\">\n      <th></th>\n      <th>user_id</th>\n      <th>age</th>\n      <th>gender</th>\n    </tr>\n  </thead>\n  <tbody>\n    <tr>\n      <th>0</th>\n      <td>1</td>\n      <td>4</td>\n      <td>1</td>\n    </tr>\n    <tr>\n      <th>1</th>\n      <td>2</td>\n      <td>10</td>\n      <td>1</td>\n    </tr>\n  </tbody>\n</table>\n</div>"
     },
     "metadata": {},
     "execution_count": 20
    }
   ],
   "source": [
    "train_user = pd.read_csv('data/train_preliminary/user.csv')\n",
    "train_user.head(2)"
   ]
  },
  {
   "cell_type": "code",
   "execution_count": 13,
   "metadata": {},
   "outputs": [
    {
     "output_type": "execute_result",
     "data": {
      "text/plain": "user_id    int64\nage        int64\ngender     int64\ndtype: object"
     },
     "metadata": {},
     "execution_count": 13
    }
   ],
   "source": [
    "train_user.dtypes"
   ]
  },
  {
   "cell_type": "code",
   "execution_count": 15,
   "metadata": {},
   "outputs": [
    {
     "output_type": "execute_result",
     "data": {
      "text/plain": "(2481135,)"
     },
     "metadata": {},
     "execution_count": 15
    }
   ],
   "source": [
    "train_ad.creative_id.unique().shape"
   ]
  },
  {
   "cell_type": "markdown",
   "metadata": {},
   "source": [
    "# user.csv ad.csv ==> click_log.csv"
   ]
  },
  {
   "cell_type": "code",
   "execution_count": 16,
   "metadata": {},
   "outputs": [
    {
     "output_type": "execute_result",
     "data": {
      "text/plain": "   time  user_id  creative_id  click_times    ad_id  product_id  \\\n0     9    30920       567330            1   504423       30673   \n1    65    30920      3072255            1  2642300        1261   \n2    56    30920      2361327            1  2035918        1261   \n3     6   309204       325532            1   292523       27081   \n4    59   309204      2746730            1  2362208           0   \n\n   product_category  advertiser_id  industry  \n0                 3          32638       319  \n1                 2           6783         6  \n2                 2           6783         6  \n3                 3          32066       242  \n4                18          14682        88  ",
      "text/html": "<div>\n<style scoped>\n    .dataframe tbody tr th:only-of-type {\n        vertical-align: middle;\n    }\n\n    .dataframe tbody tr th {\n        vertical-align: top;\n    }\n\n    .dataframe thead th {\n        text-align: right;\n    }\n</style>\n<table border=\"1\" class=\"dataframe\">\n  <thead>\n    <tr style=\"text-align: right;\">\n      <th></th>\n      <th>time</th>\n      <th>user_id</th>\n      <th>creative_id</th>\n      <th>click_times</th>\n      <th>ad_id</th>\n      <th>product_id</th>\n      <th>product_category</th>\n      <th>advertiser_id</th>\n      <th>industry</th>\n    </tr>\n  </thead>\n  <tbody>\n    <tr>\n      <th>0</th>\n      <td>9</td>\n      <td>30920</td>\n      <td>567330</td>\n      <td>1</td>\n      <td>504423</td>\n      <td>30673</td>\n      <td>3</td>\n      <td>32638</td>\n      <td>319</td>\n    </tr>\n    <tr>\n      <th>1</th>\n      <td>65</td>\n      <td>30920</td>\n      <td>3072255</td>\n      <td>1</td>\n      <td>2642300</td>\n      <td>1261</td>\n      <td>2</td>\n      <td>6783</td>\n      <td>6</td>\n    </tr>\n    <tr>\n      <th>2</th>\n      <td>56</td>\n      <td>30920</td>\n      <td>2361327</td>\n      <td>1</td>\n      <td>2035918</td>\n      <td>1261</td>\n      <td>2</td>\n      <td>6783</td>\n      <td>6</td>\n    </tr>\n    <tr>\n      <th>3</th>\n      <td>6</td>\n      <td>309204</td>\n      <td>325532</td>\n      <td>1</td>\n      <td>292523</td>\n      <td>27081</td>\n      <td>3</td>\n      <td>32066</td>\n      <td>242</td>\n    </tr>\n    <tr>\n      <th>4</th>\n      <td>59</td>\n      <td>309204</td>\n      <td>2746730</td>\n      <td>1</td>\n      <td>2362208</td>\n      <td>0</td>\n      <td>18</td>\n      <td>14682</td>\n      <td>88</td>\n    </tr>\n  </tbody>\n</table>\n</div>"
     },
     "metadata": {},
     "execution_count": 16
    }
   ],
   "source": [
    "train_clicklog_ad = pd.merge(train_click_log, train_ad, on='creative_id', how='left')\n",
    "train_clicklog_ad.head()"
   ]
  },
  {
   "cell_type": "code",
   "execution_count": 17,
   "metadata": {},
   "outputs": [
    {
     "output_type": "execute_result",
     "data": {
      "text/plain": "   time  user_id  creative_id  click_times    ad_id  product_id  \\\n0     9    30920       567330            1   504423       30673   \n1    65    30920      3072255            1  2642300        1261   \n2    56    30920      2361327            1  2035918        1261   \n3     6   309204       325532            1   292523       27081   \n4    59   309204      2746730            1  2362208           0   \n\n   product_category  advertiser_id  industry  age  gender  \n0                 3          32638       319    2       1  \n1                 2           6783         6    2       1  \n2                 2           6783         6    2       1  \n3                 3          32066       242    6       1  \n4                18          14682        88    6       1  ",
      "text/html": "<div>\n<style scoped>\n    .dataframe tbody tr th:only-of-type {\n        vertical-align: middle;\n    }\n\n    .dataframe tbody tr th {\n        vertical-align: top;\n    }\n\n    .dataframe thead th {\n        text-align: right;\n    }\n</style>\n<table border=\"1\" class=\"dataframe\">\n  <thead>\n    <tr style=\"text-align: right;\">\n      <th></th>\n      <th>time</th>\n      <th>user_id</th>\n      <th>creative_id</th>\n      <th>click_times</th>\n      <th>ad_id</th>\n      <th>product_id</th>\n      <th>product_category</th>\n      <th>advertiser_id</th>\n      <th>industry</th>\n      <th>age</th>\n      <th>gender</th>\n    </tr>\n  </thead>\n  <tbody>\n    <tr>\n      <th>0</th>\n      <td>9</td>\n      <td>30920</td>\n      <td>567330</td>\n      <td>1</td>\n      <td>504423</td>\n      <td>30673</td>\n      <td>3</td>\n      <td>32638</td>\n      <td>319</td>\n      <td>2</td>\n      <td>1</td>\n    </tr>\n    <tr>\n      <th>1</th>\n      <td>65</td>\n      <td>30920</td>\n      <td>3072255</td>\n      <td>1</td>\n      <td>2642300</td>\n      <td>1261</td>\n      <td>2</td>\n      <td>6783</td>\n      <td>6</td>\n      <td>2</td>\n      <td>1</td>\n    </tr>\n    <tr>\n      <th>2</th>\n      <td>56</td>\n      <td>30920</td>\n      <td>2361327</td>\n      <td>1</td>\n      <td>2035918</td>\n      <td>1261</td>\n      <td>2</td>\n      <td>6783</td>\n      <td>6</td>\n      <td>2</td>\n      <td>1</td>\n    </tr>\n    <tr>\n      <th>3</th>\n      <td>6</td>\n      <td>309204</td>\n      <td>325532</td>\n      <td>1</td>\n      <td>292523</td>\n      <td>27081</td>\n      <td>3</td>\n      <td>32066</td>\n      <td>242</td>\n      <td>6</td>\n      <td>1</td>\n    </tr>\n    <tr>\n      <th>4</th>\n      <td>59</td>\n      <td>309204</td>\n      <td>2746730</td>\n      <td>1</td>\n      <td>2362208</td>\n      <td>0</td>\n      <td>18</td>\n      <td>14682</td>\n      <td>88</td>\n      <td>6</td>\n      <td>1</td>\n    </tr>\n  </tbody>\n</table>\n</div>"
     },
     "metadata": {},
     "execution_count": 17
    }
   ],
   "source": [
    "train_clicklog_ad_user = pd.merge(train_clicklog_ad, train_user, on='user_id', how='left')\n",
    "train_clicklog_ad_user.head()"
   ]
  },
  {
   "cell_type": "code",
   "execution_count": 18,
   "metadata": {},
   "outputs": [
    {
     "output_type": "execute_result",
     "data": {
      "text/plain": "time                int64\nuser_id             int64\ncreative_id         int64\nclick_times         int64\nad_id               int64\nproduct_id          int64\nproduct_category    int64\nadvertiser_id       int64\nindustry            int64\nage                 int64\ngender              int64\ndtype: object"
     },
     "metadata": {},
     "execution_count": 18
    }
   ],
   "source": [
    "train_clicklog_ad_user.dtypes"
   ]
  },
  {
   "cell_type": "code",
   "execution_count": 19,
   "metadata": {},
   "outputs": [],
   "source": [
    "train_clicklog_ad_user.to_csv('data/train_preliminary/clicklog_ad_user.csv',index=False)"
   ]
  }
 ],
 "metadata": {
  "language_info": {
   "codemirror_mode": {
    "name": "ipython",
    "version": 3
   },
   "file_extension": ".py",
   "mimetype": "text/x-python",
   "name": "python",
   "nbconvert_exporter": "python",
   "pygments_lexer": "ipython3",
   "version": "3.6.5-final"
  },
  "orig_nbformat": 2,
  "kernelspec": {
   "name": "python36564bit792083a9d155497086f5b8bc917c01d5",
   "display_name": "Python 3.6.5 64-bit"
  }
 },
 "nbformat": 4,
 "nbformat_minor": 2
}