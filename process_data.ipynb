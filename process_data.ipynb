{
 "cells": [
  {
   "cell_type": "code",
   "execution_count": 1,
   "metadata": {},
   "outputs": [],
   "source": [
    "import pandas as pd\n",
    "import numpy as np"
   ]
  },
  {
   "cell_type": "markdown",
   "metadata": {},
   "source": [
    "# train data process"
   ]
  },
  {
   "cell_type": "code",
   "execution_count": 2,
   "metadata": {},
   "outputs": [],
   "source": [
    "# train_tmp_click_log = 'data/train_tmp/click_log.csv'\n",
    "train_click_log_path = 'data/train_preliminary/click_log.csv'\n",
    "train_click_log = pd.read_csv(train_click_log_path)"
   ]
  },
  {
   "cell_type": "code",
   "execution_count": 3,
   "metadata": {},
   "outputs": [],
   "source": [
    "# train_tmp_click_log = 'data/train_tmp/click_log.csv'\n",
    "test_click_log_path = 'data/test/click_log.csv'\n",
    "test_click_log = pd.read_csv(test_click_log_path)"
   ]
  },
  {
   "cell_type": "code",
   "execution_count": 4,
   "metadata": {},
   "outputs": [
    {
     "output_type": "execute_result",
     "data": {
      "text/plain": "((30082771, 4), (33585512, 4))"
     },
     "metadata": {},
     "execution_count": 4
    }
   ],
   "source": [
    "train_click_log.shape,test_click_log.shape"
   ]
  },
  {
   "cell_type": "code",
   "execution_count": 5,
   "metadata": {},
   "outputs": [],
   "source": [
    "frame = [train_click_log, test_click_log]\n",
    "click_log = pd.concat(frame, ignore_index=True)"
   ]
  },
  {
   "cell_type": "code",
   "execution_count": 6,
   "metadata": {},
   "outputs": [
    {
     "output_type": "execute_result",
     "data": {
      "text/plain": "(63668283, 4)"
     },
     "metadata": {},
     "execution_count": 6
    }
   ],
   "source": [
    "click_log.shape"
   ]
  },
  {
   "cell_type": "markdown",
   "metadata": {},
   "source": [
    "# 处理ad"
   ]
  },
  {
   "cell_type": "code",
   "execution_count": 7,
   "metadata": {},
   "outputs": [],
   "source": [
    "train_ad = pd.read_csv('data/train_preliminary/ad.csv')\n",
    "train_ad.product_id[train_ad.product_id=='\\\\N']='0'\n",
    "train_ad.industry[train_ad.industry=='\\\\N']='0'\n",
    "train_ad.product_id = train_ad.product_id.astype(int)\n",
    "train_ad.industry = train_ad.industry.astype(int)"
   ]
  },
  {
   "cell_type": "code",
   "execution_count": 8,
   "metadata": {},
   "outputs": [],
   "source": [
    "test_ad = pd.read_csv('data/test/ad.csv')\n",
    "test_ad.product_id[test_ad.product_id=='\\\\N']='0'\n",
    "test_ad.industry[test_ad.industry=='\\\\N']='0'\n",
    "test_ad.product_id = test_ad.product_id.astype(int)\n",
    "test_ad.industry = test_ad.industry.astype(int)"
   ]
  },
  {
   "cell_type": "code",
   "execution_count": 9,
   "metadata": {},
   "outputs": [],
   "source": [
    "frame = [train_ad, test_ad]\n",
    "ad = pd.concat(frame, ignore_index=True)"
   ]
  },
  {
   "cell_type": "code",
   "execution_count": 10,
   "metadata": {},
   "outputs": [
    {
     "output_type": "execute_result",
     "data": {
      "text/plain": "(5099294, 6)"
     },
     "metadata": {},
     "execution_count": 10
    }
   ],
   "source": [
    "ad.shape"
   ]
  },
  {
   "cell_type": "code",
   "execution_count": 11,
   "metadata": {},
   "outputs": [],
   "source": [
    "ad.drop_duplicates(subset = None, keep = 'first', inplace = True) "
   ]
  },
  {
   "cell_type": "code",
   "execution_count": 12,
   "metadata": {},
   "outputs": [
    {
     "output_type": "execute_result",
     "data": {
      "text/plain": "(3412772, 6)"
     },
     "metadata": {},
     "execution_count": 12
    }
   ],
   "source": [
    "ad.shape"
   ]
  },
  {
   "cell_type": "code",
   "execution_count": 13,
   "metadata": {},
   "outputs": [
    {
     "output_type": "execute_result",
     "data": {
      "text/plain": "   time  user_id  creative_id  click_times    ad_id  product_id  \\\n0     9    30920       567330            1   504423       30673   \n1    65    30920      3072255            1  2642300        1261   \n2    56    30920      2361327            1  2035918        1261   \n3     6   309204       325532            1   292523       27081   \n4    59   309204      2746730            1  2362208           0   \n\n   product_category  advertiser_id  industry  \n0                 3          32638       319  \n1                 2           6783         6  \n2                 2           6783         6  \n3                 3          32066       242  \n4                18          14682        88  ",
      "text/html": "<div>\n<style scoped>\n    .dataframe tbody tr th:only-of-type {\n        vertical-align: middle;\n    }\n\n    .dataframe tbody tr th {\n        vertical-align: top;\n    }\n\n    .dataframe thead th {\n        text-align: right;\n    }\n</style>\n<table border=\"1\" class=\"dataframe\">\n  <thead>\n    <tr style=\"text-align: right;\">\n      <th></th>\n      <th>time</th>\n      <th>user_id</th>\n      <th>creative_id</th>\n      <th>click_times</th>\n      <th>ad_id</th>\n      <th>product_id</th>\n      <th>product_category</th>\n      <th>advertiser_id</th>\n      <th>industry</th>\n    </tr>\n  </thead>\n  <tbody>\n    <tr>\n      <th>0</th>\n      <td>9</td>\n      <td>30920</td>\n      <td>567330</td>\n      <td>1</td>\n      <td>504423</td>\n      <td>30673</td>\n      <td>3</td>\n      <td>32638</td>\n      <td>319</td>\n    </tr>\n    <tr>\n      <th>1</th>\n      <td>65</td>\n      <td>30920</td>\n      <td>3072255</td>\n      <td>1</td>\n      <td>2642300</td>\n      <td>1261</td>\n      <td>2</td>\n      <td>6783</td>\n      <td>6</td>\n    </tr>\n    <tr>\n      <th>2</th>\n      <td>56</td>\n      <td>30920</td>\n      <td>2361327</td>\n      <td>1</td>\n      <td>2035918</td>\n      <td>1261</td>\n      <td>2</td>\n      <td>6783</td>\n      <td>6</td>\n    </tr>\n    <tr>\n      <th>3</th>\n      <td>6</td>\n      <td>309204</td>\n      <td>325532</td>\n      <td>1</td>\n      <td>292523</td>\n      <td>27081</td>\n      <td>3</td>\n      <td>32066</td>\n      <td>242</td>\n    </tr>\n    <tr>\n      <th>4</th>\n      <td>59</td>\n      <td>309204</td>\n      <td>2746730</td>\n      <td>1</td>\n      <td>2362208</td>\n      <td>0</td>\n      <td>18</td>\n      <td>14682</td>\n      <td>88</td>\n    </tr>\n  </tbody>\n</table>\n</div>"
     },
     "metadata": {},
     "execution_count": 13
    }
   ],
   "source": [
    "click_log_ad = pd.merge(click_log, ad, on='creative_id', how='left')\n",
    "click_log_ad.head()"
   ]
  },
  {
   "cell_type": "code",
   "execution_count": 14,
   "metadata": {},
   "outputs": [],
   "source": [
    "click_log_ad = click_log_ad.sort_values(by=['user_id', 'time', 'click_times'], ascending=[True, True, False], axis=0)"
   ]
  },
  {
   "cell_type": "code",
   "execution_count": 15,
   "metadata": {},
   "outputs": [
    {
     "output_type": "execute_result",
     "data": {
      "text/plain": "(63668283, 9)"
     },
     "metadata": {},
     "execution_count": 15
    }
   ],
   "source": [
    "click_log_ad.shape"
   ]
  },
  {
   "cell_type": "code",
   "execution_count": 16,
   "metadata": {},
   "outputs": [
    {
     "output_type": "execute_result",
     "data": {
      "text/plain": "          time  user_id  creative_id  click_times    ad_id  product_id  \\\n26196513    20        1       821396            1   724607           0   \n26196514    20        1       209778            1   188507         136   \n26196515    20        1       877468            1   773445           0   \n26196517    39        1      1683713            1  1458878           0   \n26196524    40        1       122032            1   109959        1334   \n\n          product_category  advertiser_id  industry  \n26196513                 5           7293       326  \n26196514                 2           9702         6  \n26196515                 5          29455       106  \n26196517                 5          14668       326  \n26196524                 2          11411         0  ",
      "text/html": "<div>\n<style scoped>\n    .dataframe tbody tr th:only-of-type {\n        vertical-align: middle;\n    }\n\n    .dataframe tbody tr th {\n        vertical-align: top;\n    }\n\n    .dataframe thead th {\n        text-align: right;\n    }\n</style>\n<table border=\"1\" class=\"dataframe\">\n  <thead>\n    <tr style=\"text-align: right;\">\n      <th></th>\n      <th>time</th>\n      <th>user_id</th>\n      <th>creative_id</th>\n      <th>click_times</th>\n      <th>ad_id</th>\n      <th>product_id</th>\n      <th>product_category</th>\n      <th>advertiser_id</th>\n      <th>industry</th>\n    </tr>\n  </thead>\n  <tbody>\n    <tr>\n      <th>26196513</th>\n      <td>20</td>\n      <td>1</td>\n      <td>821396</td>\n      <td>1</td>\n      <td>724607</td>\n      <td>0</td>\n      <td>5</td>\n      <td>7293</td>\n      <td>326</td>\n    </tr>\n    <tr>\n      <th>26196514</th>\n      <td>20</td>\n      <td>1</td>\n      <td>209778</td>\n      <td>1</td>\n      <td>188507</td>\n      <td>136</td>\n      <td>2</td>\n      <td>9702</td>\n      <td>6</td>\n    </tr>\n    <tr>\n      <th>26196515</th>\n      <td>20</td>\n      <td>1</td>\n      <td>877468</td>\n      <td>1</td>\n      <td>773445</td>\n      <td>0</td>\n      <td>5</td>\n      <td>29455</td>\n      <td>106</td>\n    </tr>\n    <tr>\n      <th>26196517</th>\n      <td>39</td>\n      <td>1</td>\n      <td>1683713</td>\n      <td>1</td>\n      <td>1458878</td>\n      <td>0</td>\n      <td>5</td>\n      <td>14668</td>\n      <td>326</td>\n    </tr>\n    <tr>\n      <th>26196524</th>\n      <td>40</td>\n      <td>1</td>\n      <td>122032</td>\n      <td>1</td>\n      <td>109959</td>\n      <td>1334</td>\n      <td>2</td>\n      <td>11411</td>\n      <td>0</td>\n    </tr>\n  </tbody>\n</table>\n</div>"
     },
     "metadata": {},
     "execution_count": 16
    }
   ],
   "source": [
    "click_log_ad.head()"
   ]
  },
  {
   "cell_type": "code",
   "execution_count": 17,
   "metadata": {},
   "outputs": [],
   "source": [
    "click_log_ad.to_csv('data/click_log_ad.csv',index=False)"
   ]
  }
 ],
 "metadata": {
  "language_info": {
   "codemirror_mode": {
    "name": "ipython",
    "version": 3
   },
   "file_extension": ".py",
   "mimetype": "text/x-python",
   "name": "python",
   "nbconvert_exporter": "python",
   "pygments_lexer": "ipython3",
   "version": "3.7.7-final"
  },
  "orig_nbformat": 2,
  "kernelspec": {
   "name": "python3",
   "display_name": "Python 3"
  }
 },
 "nbformat": 4,
 "nbformat_minor": 2
}