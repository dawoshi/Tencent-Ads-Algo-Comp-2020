{
 "cells": [
  {
   "cell_type": "code",
   "execution_count": 2,
   "metadata": {},
   "outputs": [],
   "source": [
    "import pandas as pd\n",
    "import numpy as np"
   ]
  },
  {
   "cell_type": "markdown",
   "metadata": {},
   "source": [
    "# train data process"
   ]
  },
  {
   "cell_type": "code",
   "execution_count": 2,
   "metadata": {},
   "outputs": [],
   "source": [
    "# train_tmp_click_log = 'data/train_tmp/click_log.csv'\n",
    "train_click_log_path = 'data/train_preliminary/click_log.csv'\n",
    "train_click_log = pd.read_csv(train_click_log_path)"
   ]
  },
  {
   "cell_type": "code",
   "execution_count": 3,
   "metadata": {},
   "outputs": [
    {
     "output_type": "execute_result",
     "data": {
      "text/plain": "   time  user_id  creative_id  click_times\n0     9    30920       567330            1\n1    65    30920      3072255            1\n2    56    30920      2361327            1",
      "text/html": "<div>\n<style scoped>\n    .dataframe tbody tr th:only-of-type {\n        vertical-align: middle;\n    }\n\n    .dataframe tbody tr th {\n        vertical-align: top;\n    }\n\n    .dataframe thead th {\n        text-align: right;\n    }\n</style>\n<table border=\"1\" class=\"dataframe\">\n  <thead>\n    <tr style=\"text-align: right;\">\n      <th></th>\n      <th>time</th>\n      <th>user_id</th>\n      <th>creative_id</th>\n      <th>click_times</th>\n    </tr>\n  </thead>\n  <tbody>\n    <tr>\n      <th>0</th>\n      <td>9</td>\n      <td>30920</td>\n      <td>567330</td>\n      <td>1</td>\n    </tr>\n    <tr>\n      <th>1</th>\n      <td>65</td>\n      <td>30920</td>\n      <td>3072255</td>\n      <td>1</td>\n    </tr>\n    <tr>\n      <th>2</th>\n      <td>56</td>\n      <td>30920</td>\n      <td>2361327</td>\n      <td>1</td>\n    </tr>\n  </tbody>\n</table>\n</div>"
     },
     "metadata": {},
     "execution_count": 3
    }
   ],
   "source": [
    "train_click_log.head(3)"
   ]
  },
  {
   "cell_type": "code",
   "execution_count": 4,
   "metadata": {},
   "outputs": [
    {
     "output_type": "execute_result",
     "data": {
      "text/plain": "time           int64\nuser_id        int64\ncreative_id    int64\nclick_times    int64\ndtype: object"
     },
     "metadata": {},
     "execution_count": 4
    }
   ],
   "source": [
    "train_click_log.dtypes"
   ]
  },
  {
   "cell_type": "code",
   "execution_count": 5,
   "metadata": {},
   "outputs": [
    {
     "output_type": "execute_result",
     "data": {
      "text/plain": "((91,), (900000,), (2481135,), (41,))"
     },
     "metadata": {},
     "execution_count": 5
    }
   ],
   "source": [
    "train_click_log.time.unique().shape, train_click_log.user_id.unique().shape, train_click_log.creative_id.unique().shape, train_click_log.click_times.unique().shape"
   ]
  },
  {
   "cell_type": "code",
   "execution_count": 6,
   "metadata": {},
   "outputs": [],
   "source": [
    "train_ad = pd.read_csv('data/train_preliminary/ad.csv')"
   ]
  },
  {
   "cell_type": "code",
   "execution_count": 7,
   "metadata": {},
   "outputs": [
    {
     "output_type": "execute_result",
     "data": {
      "text/plain": "   creative_id  ad_id product_id  product_category  advertiser_id industry\n0            1      1         \\N                 5            381       78\n1            4      4         \\N                 5            108      202\n2            7      7         \\N                 5            148      297\n3            8      8         \\N                 5            713      213\n4            9      9         \\N                 5            695      213",
      "text/html": "<div>\n<style scoped>\n    .dataframe tbody tr th:only-of-type {\n        vertical-align: middle;\n    }\n\n    .dataframe tbody tr th {\n        vertical-align: top;\n    }\n\n    .dataframe thead th {\n        text-align: right;\n    }\n</style>\n<table border=\"1\" class=\"dataframe\">\n  <thead>\n    <tr style=\"text-align: right;\">\n      <th></th>\n      <th>creative_id</th>\n      <th>ad_id</th>\n      <th>product_id</th>\n      <th>product_category</th>\n      <th>advertiser_id</th>\n      <th>industry</th>\n    </tr>\n  </thead>\n  <tbody>\n    <tr>\n      <th>0</th>\n      <td>1</td>\n      <td>1</td>\n      <td>\\N</td>\n      <td>5</td>\n      <td>381</td>\n      <td>78</td>\n    </tr>\n    <tr>\n      <th>1</th>\n      <td>4</td>\n      <td>4</td>\n      <td>\\N</td>\n      <td>5</td>\n      <td>108</td>\n      <td>202</td>\n    </tr>\n    <tr>\n      <th>2</th>\n      <td>7</td>\n      <td>7</td>\n      <td>\\N</td>\n      <td>5</td>\n      <td>148</td>\n      <td>297</td>\n    </tr>\n    <tr>\n      <th>3</th>\n      <td>8</td>\n      <td>8</td>\n      <td>\\N</td>\n      <td>5</td>\n      <td>713</td>\n      <td>213</td>\n    </tr>\n    <tr>\n      <th>4</th>\n      <td>9</td>\n      <td>9</td>\n      <td>\\N</td>\n      <td>5</td>\n      <td>695</td>\n      <td>213</td>\n    </tr>\n  </tbody>\n</table>\n</div>"
     },
     "metadata": {},
     "execution_count": 7
    }
   ],
   "source": [
    "train_ad.head(5)"
   ]
  },
  {
   "cell_type": "code",
   "execution_count": 8,
   "metadata": {},
   "outputs": [
    {
     "output_type": "execute_result",
     "data": {
      "text/plain": "creative_id          int64\nad_id                int64\nproduct_id          object\nproduct_category     int64\nadvertiser_id        int64\nindustry            object\ndtype: object"
     },
     "metadata": {},
     "execution_count": 8
    }
   ],
   "source": [
    "train_ad.dtypes"
   ]
  },
  {
   "cell_type": "code",
   "execution_count": 9,
   "metadata": {},
   "outputs": [],
   "source": [
    "train_ad.product_id[train_ad.product_id=='\\\\N']='0'\n",
    "train_ad.industry[train_ad.industry=='\\\\N']='0'"
   ]
  },
  {
   "cell_type": "code",
   "execution_count": 10,
   "metadata": {},
   "outputs": [],
   "source": [
    "train_ad.product_id = train_ad.product_id.astype(int)\n",
    "train_ad.industry = train_ad.industry.astype(int)"
   ]
  },
  {
   "cell_type": "code",
   "execution_count": 11,
   "metadata": {},
   "outputs": [
    {
     "output_type": "execute_result",
     "data": {
      "text/plain": "creative_id         int64\nad_id               int64\nproduct_id          int64\nproduct_category    int64\nadvertiser_id       int64\nindustry            int64\ndtype: object"
     },
     "metadata": {},
     "execution_count": 11
    }
   ],
   "source": [
    "train_ad.dtypes"
   ]
  },
  {
   "cell_type": "code",
   "execution_count": 20,
   "metadata": {},
   "outputs": [
    {
     "output_type": "execute_result",
     "data": {
      "text/plain": "   user_id  age  gender\n0        1    4       1\n1        2   10       1",
      "text/html": "<div>\n<style scoped>\n    .dataframe tbody tr th:only-of-type {\n        vertical-align: middle;\n    }\n\n    .dataframe tbody tr th {\n        vertical-align: top;\n    }\n\n    .dataframe thead th {\n        text-align: right;\n    }\n</style>\n<table border=\"1\" class=\"dataframe\">\n  <thead>\n    <tr style=\"text-align: right;\">\n      <th></th>\n      <th>user_id</th>\n      <th>age</th>\n      <th>gender</th>\n    </tr>\n  </thead>\n  <tbody>\n    <tr>\n      <th>0</th>\n      <td>1</td>\n      <td>4</td>\n      <td>1</td>\n    </tr>\n    <tr>\n      <th>1</th>\n      <td>2</td>\n      <td>10</td>\n      <td>1</td>\n    </tr>\n  </tbody>\n</table>\n</div>"
     },
     "metadata": {},
     "execution_count": 20
    }
   ],
   "source": [
    "train_user = pd.read_csv('data/train_preliminary/user.csv')\n",
    "train_user.head(2)"
   ]
  },
  {
   "cell_type": "code",
   "execution_count": 13,
   "metadata": {},
   "outputs": [
    {
     "output_type": "execute_result",
     "data": {
      "text/plain": "user_id    int64\nage        int64\ngender     int64\ndtype: object"
     },
     "metadata": {},
     "execution_count": 13
    }
   ],
   "source": [
    "train_user.dtypes"
   ]
  },
  {
   "cell_type": "markdown",
   "metadata": {},
   "source": [
    "## merge user.csv ad.csv to click_log.csv"
   ]
  },
  {
   "cell_type": "code",
   "execution_count": 16,
   "metadata": {},
   "outputs": [
    {
     "output_type": "execute_result",
     "data": {
      "text/plain": "   time  user_id  creative_id  click_times    ad_id  product_id  \\\n0     9    30920       567330            1   504423       30673   \n1    65    30920      3072255            1  2642300        1261   \n2    56    30920      2361327            1  2035918        1261   \n3     6   309204       325532            1   292523       27081   \n4    59   309204      2746730            1  2362208           0   \n\n   product_category  advertiser_id  industry  \n0                 3          32638       319  \n1                 2           6783         6  \n2                 2           6783         6  \n3                 3          32066       242  \n4                18          14682        88  ",
      "text/html": "<div>\n<style scoped>\n    .dataframe tbody tr th:only-of-type {\n        vertical-align: middle;\n    }\n\n    .dataframe tbody tr th {\n        vertical-align: top;\n    }\n\n    .dataframe thead th {\n        text-align: right;\n    }\n</style>\n<table border=\"1\" class=\"dataframe\">\n  <thead>\n    <tr style=\"text-align: right;\">\n      <th></th>\n      <th>time</th>\n      <th>user_id</th>\n      <th>creative_id</th>\n      <th>click_times</th>\n      <th>ad_id</th>\n      <th>product_id</th>\n      <th>product_category</th>\n      <th>advertiser_id</th>\n      <th>industry</th>\n    </tr>\n  </thead>\n  <tbody>\n    <tr>\n      <th>0</th>\n      <td>9</td>\n      <td>30920</td>\n      <td>567330</td>\n      <td>1</td>\n      <td>504423</td>\n      <td>30673</td>\n      <td>3</td>\n      <td>32638</td>\n      <td>319</td>\n    </tr>\n    <tr>\n      <th>1</th>\n      <td>65</td>\n      <td>30920</td>\n      <td>3072255</td>\n      <td>1</td>\n      <td>2642300</td>\n      <td>1261</td>\n      <td>2</td>\n      <td>6783</td>\n      <td>6</td>\n    </tr>\n    <tr>\n      <th>2</th>\n      <td>56</td>\n      <td>30920</td>\n      <td>2361327</td>\n      <td>1</td>\n      <td>2035918</td>\n      <td>1261</td>\n      <td>2</td>\n      <td>6783</td>\n      <td>6</td>\n    </tr>\n    <tr>\n      <th>3</th>\n      <td>6</td>\n      <td>309204</td>\n      <td>325532</td>\n      <td>1</td>\n      <td>292523</td>\n      <td>27081</td>\n      <td>3</td>\n      <td>32066</td>\n      <td>242</td>\n    </tr>\n    <tr>\n      <th>4</th>\n      <td>59</td>\n      <td>309204</td>\n      <td>2746730</td>\n      <td>1</td>\n      <td>2362208</td>\n      <td>0</td>\n      <td>18</td>\n      <td>14682</td>\n      <td>88</td>\n    </tr>\n  </tbody>\n</table>\n</div>"
     },
     "metadata": {},
     "execution_count": 16
    }
   ],
   "source": [
    "train_clicklog_ad = pd.merge(train_click_log, train_ad, on='creative_id', how='left')\n",
    "train_clicklog_ad.head()"
   ]
  },
  {
   "cell_type": "code",
   "execution_count": 17,
   "metadata": {},
   "outputs": [
    {
     "output_type": "execute_result",
     "data": {
      "text/plain": "   time  user_id  creative_id  click_times    ad_id  product_id  \\\n0     9    30920       567330            1   504423       30673   \n1    65    30920      3072255            1  2642300        1261   \n2    56    30920      2361327            1  2035918        1261   \n3     6   309204       325532            1   292523       27081   \n4    59   309204      2746730            1  2362208           0   \n\n   product_category  advertiser_id  industry  age  gender  \n0                 3          32638       319    2       1  \n1                 2           6783         6    2       1  \n2                 2           6783         6    2       1  \n3                 3          32066       242    6       1  \n4                18          14682        88    6       1  ",
      "text/html": "<div>\n<style scoped>\n    .dataframe tbody tr th:only-of-type {\n        vertical-align: middle;\n    }\n\n    .dataframe tbody tr th {\n        vertical-align: top;\n    }\n\n    .dataframe thead th {\n        text-align: right;\n    }\n</style>\n<table border=\"1\" class=\"dataframe\">\n  <thead>\n    <tr style=\"text-align: right;\">\n      <th></th>\n      <th>time</th>\n      <th>user_id</th>\n      <th>creative_id</th>\n      <th>click_times</th>\n      <th>ad_id</th>\n      <th>product_id</th>\n      <th>product_category</th>\n      <th>advertiser_id</th>\n      <th>industry</th>\n      <th>age</th>\n      <th>gender</th>\n    </tr>\n  </thead>\n  <tbody>\n    <tr>\n      <th>0</th>\n      <td>9</td>\n      <td>30920</td>\n      <td>567330</td>\n      <td>1</td>\n      <td>504423</td>\n      <td>30673</td>\n      <td>3</td>\n      <td>32638</td>\n      <td>319</td>\n      <td>2</td>\n      <td>1</td>\n    </tr>\n    <tr>\n      <th>1</th>\n      <td>65</td>\n      <td>30920</td>\n      <td>3072255</td>\n      <td>1</td>\n      <td>2642300</td>\n      <td>1261</td>\n      <td>2</td>\n      <td>6783</td>\n      <td>6</td>\n      <td>2</td>\n      <td>1</td>\n    </tr>\n    <tr>\n      <th>2</th>\n      <td>56</td>\n      <td>30920</td>\n      <td>2361327</td>\n      <td>1</td>\n      <td>2035918</td>\n      <td>1261</td>\n      <td>2</td>\n      <td>6783</td>\n      <td>6</td>\n      <td>2</td>\n      <td>1</td>\n    </tr>\n    <tr>\n      <th>3</th>\n      <td>6</td>\n      <td>309204</td>\n      <td>325532</td>\n      <td>1</td>\n      <td>292523</td>\n      <td>27081</td>\n      <td>3</td>\n      <td>32066</td>\n      <td>242</td>\n      <td>6</td>\n      <td>1</td>\n    </tr>\n    <tr>\n      <th>4</th>\n      <td>59</td>\n      <td>309204</td>\n      <td>2746730</td>\n      <td>1</td>\n      <td>2362208</td>\n      <td>0</td>\n      <td>18</td>\n      <td>14682</td>\n      <td>88</td>\n      <td>6</td>\n      <td>1</td>\n    </tr>\n  </tbody>\n</table>\n</div>"
     },
     "metadata": {},
     "execution_count": 17
    }
   ],
   "source": [
    "train_clicklog_ad_user = pd.merge(train_clicklog_ad, train_user, on='user_id', how='left')\n",
    "train_clicklog_ad_user.head()"
   ]
  },
  {
   "cell_type": "code",
   "execution_count": 18,
   "metadata": {},
   "outputs": [
    {
     "output_type": "execute_result",
     "data": {
      "text/plain": "time                int64\nuser_id             int64\ncreative_id         int64\nclick_times         int64\nad_id               int64\nproduct_id          int64\nproduct_category    int64\nadvertiser_id       int64\nindustry            int64\nage                 int64\ngender              int64\ndtype: object"
     },
     "metadata": {},
     "execution_count": 18
    }
   ],
   "source": [
    "train_clicklog_ad_user.dtypes"
   ]
  },
  {
   "cell_type": "markdown",
   "metadata": {},
   "source": [
    "## write to csv file"
   ]
  },
  {
   "cell_type": "code",
   "execution_count": 19,
   "metadata": {},
   "outputs": [],
   "source": [
    "# train_clicklog_ad_user.to_csv('data/train_preliminary/clicklog_ad_user.csv',index=False)"
   ]
  },
  {
   "cell_type": "markdown",
   "metadata": {},
   "source": [
    "# test data process"
   ]
  },
  {
   "cell_type": "code",
   "execution_count": 78,
   "metadata": {},
   "outputs": [],
   "source": [
    "# train_tmp_click_log = 'data/train_tmp/click_log.csv'\n",
    "test_click_log_path = 'data/test/click_log.csv'\n",
    "test_click_log = pd.read_csv(test_click_log_path)"
   ]
  },
  {
   "cell_type": "code",
   "execution_count": 80,
   "metadata": {},
   "outputs": [
    {
     "output_type": "execute_result",
     "data": {
      "text/plain": "((91,), (1000000,), (2618159,), (93,))"
     },
     "metadata": {},
     "execution_count": 80
    }
   ],
   "source": [
    "test_click_log.time.unique().shape, test_click_log.user_id.unique().shape, test_click_log.creative_id.unique().shape, test_click_log.click_times.unique().shape"
   ]
  },
  {
   "cell_type": "code",
   "execution_count": 105,
   "metadata": {},
   "outputs": [
    {
     "output_type": "stream",
     "name": "stdout",
     "text": "<class 'pandas.core.frame.DataFrame'>\nRangeIndex: 33585512 entries, 0 to 33585511\nData columns (total 4 columns):\ntime           int64\nuser_id        int64\ncreative_id    int64\nclick_times    int64\ndtypes: int64(4)\nmemory usage: 1.0 GB\n"
    }
   ],
   "source": [
    "test_click_log.info()"
   ]
  },
  {
   "cell_type": "code",
   "execution_count": 82,
   "metadata": {},
   "outputs": [],
   "source": [
    "test_ad = pd.read_csv('data/train_preliminary/ad.csv')"
   ]
  },
  {
   "cell_type": "code",
   "execution_count": 85,
   "metadata": {},
   "outputs": [],
   "source": [
    "test_ad.product_id[test_ad.product_id=='\\\\N']='0'\n",
    "test_ad.industry[test_ad.industry=='\\\\N']='0'\n",
    "test_ad.product_id = test_ad.product_id.astype(int)\n",
    "test_ad.industry = test_ad.industry.astype(int)"
   ]
  },
  {
   "cell_type": "code",
   "execution_count": 87,
   "metadata": {},
   "outputs": [
    {
     "output_type": "execute_result",
     "data": {
      "text/plain": "creative_id         int64\nad_id               int64\nproduct_id          int64\nproduct_category    int64\nadvertiser_id       int64\nindustry            int64\ndtype: object"
     },
     "metadata": {},
     "execution_count": 87
    }
   ],
   "source": [
    "test_ad.dtypes"
   ]
  },
  {
   "cell_type": "code",
   "execution_count": 88,
   "metadata": {},
   "outputs": [
    {
     "output_type": "execute_result",
     "data": {
      "text/plain": "   creative_id  ad_id  product_id  product_category  advertiser_id  industry\n0            1      1           0                 5            381        78\n1            4      4           0                 5            108       202\n2            7      7           0                 5            148       297\n3            8      8           0                 5            713       213\n4            9      9           0                 5            695       213",
      "text/html": "<div>\n<style scoped>\n    .dataframe tbody tr th:only-of-type {\n        vertical-align: middle;\n    }\n\n    .dataframe tbody tr th {\n        vertical-align: top;\n    }\n\n    .dataframe thead th {\n        text-align: right;\n    }\n</style>\n<table border=\"1\" class=\"dataframe\">\n  <thead>\n    <tr style=\"text-align: right;\">\n      <th></th>\n      <th>creative_id</th>\n      <th>ad_id</th>\n      <th>product_id</th>\n      <th>product_category</th>\n      <th>advertiser_id</th>\n      <th>industry</th>\n    </tr>\n  </thead>\n  <tbody>\n    <tr>\n      <th>0</th>\n      <td>1</td>\n      <td>1</td>\n      <td>0</td>\n      <td>5</td>\n      <td>381</td>\n      <td>78</td>\n    </tr>\n    <tr>\n      <th>1</th>\n      <td>4</td>\n      <td>4</td>\n      <td>0</td>\n      <td>5</td>\n      <td>108</td>\n      <td>202</td>\n    </tr>\n    <tr>\n      <th>2</th>\n      <td>7</td>\n      <td>7</td>\n      <td>0</td>\n      <td>5</td>\n      <td>148</td>\n      <td>297</td>\n    </tr>\n    <tr>\n      <th>3</th>\n      <td>8</td>\n      <td>8</td>\n      <td>0</td>\n      <td>5</td>\n      <td>713</td>\n      <td>213</td>\n    </tr>\n    <tr>\n      <th>4</th>\n      <td>9</td>\n      <td>9</td>\n      <td>0</td>\n      <td>5</td>\n      <td>695</td>\n      <td>213</td>\n    </tr>\n  </tbody>\n</table>\n</div>"
     },
     "metadata": {},
     "execution_count": 88
    }
   ],
   "source": [
    "test_ad.head()"
   ]
  },
  {
   "cell_type": "markdown",
   "metadata": {},
   "source": [
    "## 在click_log.csv中有20多万的creative_id没有在ad.csv出现,使用inner方式保留两个表的公共creative_id的行"
   ]
  },
  {
   "cell_type": "code",
   "execution_count": 112,
   "metadata": {},
   "outputs": [
    {
     "output_type": "execute_result",
     "data": {
      "text/plain": "   time  user_id  creative_id  click_times   ad_id  product_id  \\\n0    20  3131989       645764            1  573314          58   \n1    10  3142948       645764            1  573314          58   \n2    14  3170643       645764            1  573314          58   \n3    10  3194257       645764            1  573314          58   \n4    21  3222925       645764            1  573314          58   \n\n   product_category  advertiser_id  industry  \n0                 2          14689         6  \n1                 2          14689         6  \n2                 2          14689         6  \n3                 2          14689         6  \n4                 2          14689         6  ",
      "text/html": "<div>\n<style scoped>\n    .dataframe tbody tr th:only-of-type {\n        vertical-align: middle;\n    }\n\n    .dataframe tbody tr th {\n        vertical-align: top;\n    }\n\n    .dataframe thead th {\n        text-align: right;\n    }\n</style>\n<table border=\"1\" class=\"dataframe\">\n  <thead>\n    <tr style=\"text-align: right;\">\n      <th></th>\n      <th>time</th>\n      <th>user_id</th>\n      <th>creative_id</th>\n      <th>click_times</th>\n      <th>ad_id</th>\n      <th>product_id</th>\n      <th>product_category</th>\n      <th>advertiser_id</th>\n      <th>industry</th>\n    </tr>\n  </thead>\n  <tbody>\n    <tr>\n      <th>0</th>\n      <td>20</td>\n      <td>3131989</td>\n      <td>645764</td>\n      <td>1</td>\n      <td>573314</td>\n      <td>58</td>\n      <td>2</td>\n      <td>14689</td>\n      <td>6</td>\n    </tr>\n    <tr>\n      <th>1</th>\n      <td>10</td>\n      <td>3142948</td>\n      <td>645764</td>\n      <td>1</td>\n      <td>573314</td>\n      <td>58</td>\n      <td>2</td>\n      <td>14689</td>\n      <td>6</td>\n    </tr>\n    <tr>\n      <th>2</th>\n      <td>14</td>\n      <td>3170643</td>\n      <td>645764</td>\n      <td>1</td>\n      <td>573314</td>\n      <td>58</td>\n      <td>2</td>\n      <td>14689</td>\n      <td>6</td>\n    </tr>\n    <tr>\n      <th>3</th>\n      <td>10</td>\n      <td>3194257</td>\n      <td>645764</td>\n      <td>1</td>\n      <td>573314</td>\n      <td>58</td>\n      <td>2</td>\n      <td>14689</td>\n      <td>6</td>\n    </tr>\n    <tr>\n      <th>4</th>\n      <td>21</td>\n      <td>3222925</td>\n      <td>645764</td>\n      <td>1</td>\n      <td>573314</td>\n      <td>58</td>\n      <td>2</td>\n      <td>14689</td>\n      <td>6</td>\n    </tr>\n  </tbody>\n</table>\n</div>"
     },
     "metadata": {},
     "execution_count": 112
    }
   ],
   "source": [
    "# test_clicklog_ad = pd.merge(test_click_log, test_ad, on='creative_id', how='left')\n",
    "# test_click_ad_dropna = test_clicklog_ad.dropna()\n",
    "test_clicklog_ad = pd.merge(test_click_log, test_ad, on='creative_id', how='inner')\n",
    "test_clicklog_ad.head()"
   ]
  },
  {
   "cell_type": "code",
   "execution_count": null,
   "metadata": {},
   "outputs": [],
   "source": [
    "# 类型转换为int\n",
    "# test_clicklog_ad_drop_userid.ad_id = test_clicklog_ad_drop_userid.product_id.astype(int)\n",
    "# test_clicklog_ad_drop_userid.product_id = test_clicklog_ad_drop_userid.product_id.astype(int)\n",
    "# test_clicklog_ad_drop_userid.product_category = test_clicklog_ad_drop_userid.product_id.astype(int)\n",
    "# test_clicklog_ad_drop_userid.advertiser_id = test_clicklog_ad_drop_userid.product_id.astype(int)\n",
    "# test_clicklog_ad_drop_userid.industry = test_clicklog_ad_drop_userid.product_id.astype(int)"
   ]
  },
  {
   "cell_type": "code",
   "execution_count": 110,
   "metadata": {},
   "outputs": [
    {
     "output_type": "stream",
     "name": "stdout",
     "text": "<class 'pandas.core.frame.DataFrame'>\nInt64Index: 32310439 entries, 0 to 32310438\nData columns (total 9 columns):\ntime                int64\nuser_id             int64\ncreative_id         int64\nclick_times         int64\nad_id               int64\nproduct_id          int64\nproduct_category    int64\nadvertiser_id       int64\nindustry            int64\ndtypes: int64(9)\nmemory usage: 2.4 GB\n"
    }
   ],
   "source": [
    "test_clicklog_ad.info()"
   ]
  },
  {
   "cell_type": "code",
   "execution_count": 90,
   "metadata": {},
   "outputs": [
    {
     "output_type": "stream",
     "name": "stdout",
     "text": "<class 'pandas.core.frame.DataFrame'>\nInt64Index: 33585512 entries, 0 to 33585511\nData columns (total 9 columns):\ntime                int64\nuser_id             int64\ncreative_id         int64\nclick_times         int64\nad_id               float64\nproduct_id          float64\nproduct_category    float64\nadvertiser_id       float64\nindustry            float64\ndtypes: float64(5), int64(4)\nmemory usage: 2.5 GB\n"
    }
   ],
   "source": [
    "test_clicklog_ad.info()"
   ]
  },
  {
   "cell_type": "code",
   "execution_count": 97,
   "metadata": {},
   "outputs": [],
   "source": [
    "# 删除重复user_id\n",
    "test_clicklog_ad_drop_userid = test_click_ad_dropna.drop_duplicates('user_id')"
   ]
  },
  {
   "cell_type": "code",
   "execution_count": 103,
   "metadata": {},
   "outputs": [
    {
     "output_type": "stream",
     "name": "stdout",
     "text": "<class 'pandas.core.frame.DataFrame'>\nInt64Index: 1000000 entries, 0 to 33585471\nData columns (total 9 columns):\ntime                1000000 non-null int64\nuser_id             1000000 non-null int64\ncreative_id         1000000 non-null int64\nclick_times         1000000 non-null int64\nad_id               1000000 non-null int64\nproduct_id          1000000 non-null int64\nproduct_category    1000000 non-null int64\nadvertiser_id       1000000 non-null int64\nindustry            1000000 non-null int64\ndtypes: int64(9)\nmemory usage: 76.3 MB\n"
    }
   ],
   "source": [
    "test_clicklog_ad_drop_userid.info()"
   ]
  },
  {
   "cell_type": "code",
   "execution_count": 108,
   "metadata": {},
   "outputs": [],
   "source": [
    "test_clicklog_ad_drop_userid.to_csv('data/test/clicklog_ad.csv', index=False)"
   ]
  }
 ],
 "metadata": {
  "language_info": {
   "codemirror_mode": {
    "name": "ipython",
    "version": 3
   },
   "file_extension": ".py",
   "mimetype": "text/x-python",
   "name": "python",
   "nbconvert_exporter": "python",
   "pygments_lexer": "ipython3",
   "version": "3.6.5-final"
  },
  "orig_nbformat": 2,
  "kernelspec": {
   "name": "python36564bit792083a9d155497086f5b8bc917c01d5",
   "display_name": "Python 3.6.5 64-bit"
  }
 },
 "nbformat": 4,
 "nbformat_minor": 2
}